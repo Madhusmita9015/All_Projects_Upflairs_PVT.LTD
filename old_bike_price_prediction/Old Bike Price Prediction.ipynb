{
 "cells": [
  {
   "cell_type": "code",
   "execution_count": 3,
   "id": "4980583f",
   "metadata": {},
   "outputs": [
    {
     "name": "stdout",
     "output_type": "stream",
     "text": [
      "                              bike_name     price       city  kms_driven  \\\n",
      "0    TVS Star City Plus Dual Tone 110cc   35000.0  Ahmedabad     17654.0   \n",
      "1           Royal Enfield Classic 350cc  119900.0      Delhi     11000.0   \n",
      "2                  Triumph Daytona 675R  600000.0      Delhi       110.0   \n",
      "3                  TVS Apache RTR 180cc   65000.0  Bangalore     16329.0   \n",
      "4  Yamaha FZ S V 2.0 150cc-Ltd. Edition   80000.0  Bangalore     10000.0   \n",
      "\n",
      "         owner  age  power          brand  \n",
      "0  First Owner  3.0  110.0            TVS  \n",
      "1  First Owner  4.0  350.0  Royal Enfield  \n",
      "2  First Owner  8.0  675.0        Triumph  \n",
      "3  First Owner  4.0  180.0            TVS  \n",
      "4  First Owner  3.0  150.0         Yamaha  \n",
      "<class 'pandas.core.frame.DataFrame'>\n",
      "RangeIndex: 32648 entries, 0 to 32647\n",
      "Data columns (total 8 columns):\n",
      " #   Column      Non-Null Count  Dtype  \n",
      "---  ------      --------------  -----  \n",
      " 0   bike_name   32648 non-null  object \n",
      " 1   price       32648 non-null  float64\n",
      " 2   city        32648 non-null  object \n",
      " 3   kms_driven  32648 non-null  float64\n",
      " 4   owner       32648 non-null  object \n",
      " 5   age         32648 non-null  float64\n",
      " 6   power       32648 non-null  float64\n",
      " 7   brand       32648 non-null  object \n",
      "dtypes: float64(4), object(4)\n",
      "memory usage: 2.0+ MB\n",
      "None\n",
      "              price     kms_driven           age         power\n",
      "count  3.264800e+04   32648.000000  32648.000000  32648.000000\n",
      "mean   6.829542e+04   26344.625184      8.048211    213.511302\n",
      "std    9.071860e+04   22208.527695      4.031700    134.428868\n",
      "min    4.400000e+03       1.000000      1.000000    100.000000\n",
      "25%    2.500000e+04   12000.000000      5.000000    150.000000\n",
      "50%    4.300000e+04   20373.000000      7.000000    150.000000\n",
      "75%    8.000000e+04   35000.000000     10.000000    220.000000\n",
      "max    1.900000e+06  750000.000000     63.000000   1800.000000\n"
     ]
    }
   ],
   "source": [
    "import pandas as pd\n",
    "\n",
    "# Load the dataset\n",
    "df = pd.read_csv(\"C:/Users/Madhusmita/Downloads/Used_Bikes.csv\")\n",
    "\n",
    "# Basic structure check\n",
    "print(df.head())\n",
    "print(df.info())\n",
    "print(df.describe())\n"
   ]
  },
  {
   "cell_type": "code",
   "execution_count": null,
   "id": "fc437c6a",
   "metadata": {},
   "outputs": [
    {
     "name": "stdout",
     "output_type": "stream",
     "text": [
      "      price  kms_driven  owner  age  power  brand\n",
      "0   35000.0     17654.0      0  3.0  110.0     19\n",
      "1  119900.0     11000.0      0  4.0  350.0     17\n",
      "2  600000.0       110.0      0  8.0  675.0     20\n",
      "3   65000.0     16329.0      0  4.0  180.0     19\n",
      "4   80000.0     10000.0      0  3.0  150.0     21\n"
     ]
    }
   ],
   "source": [
    "\n",
    "df = df.drop(columns=[\"bike_name\", \"city\"])\n",
    "\n",
    "\n",
    "from sklearn.preprocessing import LabelEncoder\n",
    "\n",
    "le_brand = LabelEncoder()\n",
    "le_owner = LabelEncoder()\n",
    "\n",
    "df[\"brand\"] = le_brand.fit_transform(df[\"brand\"])\n",
    "df[\"owner\"] = le_owner.fit_transform(df[\"owner\"])\n",
    "\n",
    "                                            \n",
    "print(df.head())\n"
   ]
  },
  {
   "cell_type": "code",
   "execution_count": 7,
   "id": "b7debab0",
   "metadata": {},
   "outputs": [
    {
     "name": "stdout",
     "output_type": "stream",
     "text": [
      "R² Score: 0.9392595406318192\n",
      " RMSE: 23000.353628343917\n"
     ]
    }
   ],
   "source": [
    "from sklearn.model_selection import train_test_split\n",
    "from sklearn.ensemble import RandomForestRegressor\n",
    "from sklearn.metrics import r2_score, mean_squared_error\n",
    "\n",
    "X = df[[\"brand\", \"owner\", \"age\", \"power\", \"kms_driven\"]]\n",
    "y = df[\"price\"]\n",
    "\n",
    "X_train, X_test, y_train, y_test = train_test_split(X, y, test_size=0.2, random_state=42)\n",
    "\n",
    "model = RandomForestRegressor(n_estimators=100, random_state=42)\n",
    "model.fit(X_train, y_train)\n",
    "\n",
    "y_pred = model.predict(X_test)\n",
    "\n",
    "from sklearn.metrics import r2_score, mean_squared_error\n",
    "import numpy as np\n",
    "\n",
    "# Predict using the test set\n",
    "y_pred = model.predict(X_test)\n",
    "\n",
    "# Evaluate the model\n",
    "print(\"R² Score:\", r2_score(y_test, y_pred))\n",
    "print(\" RMSE:\", np.sqrt(mean_squared_error(y_test, y_pred)))\n",
    "\n"
   ]
  },
  {
   "cell_type": "code",
   "execution_count": 18,
   "id": "a67f3279",
   "metadata": {},
   "outputs": [
    {
     "name": "stdout",
     "output_type": "stream",
     "text": [
      " Model saved as model.pkl\n"
     ]
    }
   ],
   "source": [
    "import joblib\n",
    "\n",
    "joblib.dump(model, \"model.pkl\")\n",
    "\n",
    "print(\" Model saved as model.pkl\")\n"
   ]
  },
  {
   "cell_type": "code",
   "execution_count": 17,
   "id": "55126ee4",
   "metadata": {},
   "outputs": [
    {
     "name": "stdout",
     "output_type": "stream",
     "text": [
      "Flask app should be run from Command Prompt using: python app.py\n"
     ]
    }
   ],
   "source": [
    "print(\"Flask app should be run from Command Prompt using: python app.py\")\n"
   ]
  },
  {
   "cell_type": "code",
   "execution_count": 16,
   "id": "983c0fa8",
   "metadata": {},
   "outputs": [
    {
     "name": "stdout",
     "output_type": "stream",
     "text": [
      "Predicted Price: ₹85824.0\n"
     ]
    },
    {
     "name": "stderr",
     "output_type": "stream",
     "text": [
      "c:\\Users\\Madhusmita\\Desktop\\Data Science\\venv\\lib\\site-packages\\sklearn\\utils\\validation.py:2749: UserWarning: X does not have valid feature names, but RandomForestRegressor was fitted with feature names\n",
      "  warnings.warn(\n"
     ]
    }
   ],
   "source": [
    "import joblib\n",
    "import numpy as np\n",
    "\n",
    "\n",
    "model = joblib.load(\"model.pkl\")\n",
    "\n",
    "# Predict for sample input\n",
    "sample_input = np.array([[17, 0, 3.0, 150.0, 12000.0]])  # TVS, First Owner, 3 yrs, 150cc, 12k kms\n",
    "predicted_price = model.predict(sample_input)\n",
    "\n",
    "print(f\"Predicted Price: ₹{round(predicted_price[0], 2)}\")\n"
   ]
  }
 ],
 "metadata": {
  "kernelspec": {
   "display_name": "venv",
   "language": "python",
   "name": "python3"
  },
  "language_info": {
   "codemirror_mode": {
    "name": "ipython",
    "version": 3
   },
   "file_extension": ".py",
   "mimetype": "text/x-python",
   "name": "python",
   "nbconvert_exporter": "python",
   "pygments_lexer": "ipython3",
   "version": "3.10.11"
  }
 },
 "nbformat": 4,
 "nbformat_minor": 5
}
